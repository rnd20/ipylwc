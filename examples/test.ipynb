{
 "cells": [
  {
   "cell_type": "markdown",
   "metadata": {
    "pycharm": {
     "name": "#%% md\n"
    }
   },
   "source": [
    "# Introduction"
   ]
  },
  {
   "cell_type": "code",
   "execution_count": 107,
   "metadata": {},
   "outputs": [
    {
     "name": "stdout",
     "output_type": "stream",
     "text": [
      "The autoreload extension is already loaded. To reload it, use:\n",
      "  %reload_ext autoreload\n"
     ]
    }
   ],
   "source": [
    "%load_ext autoreload\n",
    "%autoreload 2\n",
    "from ipylwc.chart import Chart \n",
    "from ipylwc.series import LineSeries, AreaSeries, CandlestickSeries, PriceLine\n",
    "import pandas as pd\n",
    "import numpy as np"
   ]
  },
  {
   "cell_type": "code",
   "execution_count": 108,
   "metadata": {
    "collapsed": false,
    "jupyter": {
     "outputs_hidden": false
    },
    "pycharm": {
     "name": "#%%\n"
    }
   },
   "outputs": [
    {
     "data": {
      "application/vnd.jupyter.widget-view+json": {
       "model_id": "6f25626114c74ed4a6e64948c143c7f0",
       "version_major": 2,
       "version_minor": 0
      },
      "text/plain": [
       "Chart(options={'width': 1200, 'height': 500, 'layout': {'textColor': 'blue', 'background': {'type': 'solid', '…"
      ]
     },
     "execution_count": 108,
     "metadata": {},
     "output_type": "execute_result"
    }
   ],
   "source": [
    "options = { \"width\": 1200, \"height\": 500, \"layout\": { \"textColor\": 'blue', \"background\": { \"type\": 'solid', \"color\": '#505050' } }}\n",
    "w = Chart(options=options)\n",
    "w"
   ]
  },
  {
   "cell_type": "code",
   "execution_count": 109,
   "metadata": {},
   "outputs": [],
   "source": [
    "series1 = w.add_series(LineSeries(options={'color': 'yellow', 'priceLineVisible': True}))\n",
    "series2 = w.add_series(AreaSeries(options={'color': 'red'}))\n"
   ]
  },
  {
   "cell_type": "code",
   "execution_count": 110,
   "metadata": {
    "collapsed": false,
    "jupyter": {
     "outputs_hidden": false
    },
    "pycharm": {
     "name": "#%%\n"
    }
   },
   "outputs": [],
   "source": [
    "data1 = pd.DataFrame([\n",
    "      { 'time': '2018-12-22', 'value': 32.51 },\n",
    "      { 'time': '2018-12-23', 'value': 31.11 },\n",
    "      { 'time': '2018-12-24', 'value': 27.02 },\n",
    "      { 'time': '2018-12-25', 'value': 27.32 },\n",
    "      { 'time': '2018-12-26', 'value': 25.17 },\n",
    "      { 'time': '2018-12-27', 'value': 28.89 },\n",
    "      { 'time': '2018-12-28', 'value': 25.46 },\n",
    "      { 'time': '2018-12-29', 'value': 23.92 },\n",
    "      { 'time': '2018-12-30', 'value': 22.68 },\n",
    "      { 'time': '2018-12-31', 'value': 22.67 },\n",
    "    ]);\n",
    "data2 = pd.DataFrame([\n",
    "      { 'time': '2018-12-22', 'value': 52.51 },\n",
    "      { 'time': '2018-12-23', 'value': 51.11 },\n",
    "      { 'time': '2018-12-24', 'value': 47.02 },\n",
    "      { 'time': '2018-12-25', 'value': 47.32 },\n",
    "      { 'time': '2018-12-26', 'value': 45.17 },\n",
    "      { 'time': '2018-12-27', 'value': 48.89 },\n",
    "      { 'time': '2018-12-28', 'value': 45.46 },\n",
    "      { 'time': '2018-12-29', 'value': 43.92 },\n",
    "      { 'time': '2018-12-30', 'value': 42.68 },\n",
    "      { 'time': '2018-12-31', 'value': 42.67 },\n",
    "    ]);"
   ]
  },
  {
   "cell_type": "code",
   "execution_count": 111,
   "metadata": {},
   "outputs": [],
   "source": [
    "series1.data = data1\n",
    "series2.data = data2"
   ]
  },
  {
   "cell_type": "code",
   "execution_count": 119,
   "metadata": {},
   "outputs": [],
   "source": [
    "di = {'autoscaleInfoProvider': { 'priceRange': {'minValue': -10,'maxValue': 20}},'color': 'blue'}\n",
    "series1.options  = di"
   ]
  },
  {
   "cell_type": "code",
   "execution_count": 30,
   "metadata": {},
   "outputs": [
    {
     "data": {
      "text/plain": [
       "[LineSeries(data=         time  value\n",
       " 0  2018-12-22  32.51\n",
       " 1  2018-12-23  31.11\n",
       " 2  2018-12-24  27.02\n",
       " 3  2018-12-25  27.32\n",
       " 4  2018-12-26  25.17\n",
       " 5  2018-12-27  28.89\n",
       " 6  2018-12-28  25.46\n",
       " 7  2018-12-29  23.92\n",
       " 8  2018-12-30  22.68\n",
       " 9  2018-12-31  22.67, options={'color': 'yellow', 'priceLineVisible': True}),\n",
       " AreaSeries(data=         time  value\n",
       " 0  2018-12-22  52.51\n",
       " 1  2018-12-23  51.11\n",
       " 2  2018-12-24  47.02\n",
       " 3  2018-12-25  47.32\n",
       " 4  2018-12-26  45.17\n",
       " 5  2018-12-27  48.89\n",
       " 6  2018-12-28  45.46\n",
       " 7  2018-12-29  43.92\n",
       " 8  2018-12-30  42.68\n",
       " 9  2018-12-31  42.67, options={'color': 'red'}, type='area')]"
      ]
     },
     "execution_count": 30,
     "metadata": {},
     "output_type": "execute_result"
    }
   ],
   "source": [
    "w.series"
   ]
  },
  {
   "cell_type": "code",
   "execution_count": 31,
   "metadata": {},
   "outputs": [],
   "source": [
    "series1.options = {'color': 'orange'}"
   ]
  },
  {
   "cell_type": "code",
   "execution_count": 18,
   "metadata": {},
   "outputs": [],
   "source": [
    "w.remove_series(series1)"
   ]
  },
  {
   "cell_type": "code",
   "execution_count": 19,
   "metadata": {},
   "outputs": [],
   "source": [
    "w.series = []"
   ]
  },
  {
   "cell_type": "code",
   "execution_count": 20,
   "metadata": {},
   "outputs": [],
   "source": [
    "series1.pricelines = []"
   ]
  },
  {
   "cell_type": "code",
   "execution_count": 124,
   "metadata": {},
   "outputs": [],
   "source": [
    "pl = PriceLine(options=dict(\n",
    "    price= 42.0,\n",
    "    color= 'red',\n",
    "    lineWidth= 2,\n",
    "    axisLabelVisible= True,\n",
    "    title= 'P/L 500',\n",
    "))"
   ]
  },
  {
   "cell_type": "code",
   "execution_count": 126,
   "metadata": {},
   "outputs": [
    {
     "data": {
      "application/vnd.jupyter.widget-view+json": {
       "model_id": "6f0361d946c34d8c9df76845618130ba",
       "version_major": 2,
       "version_minor": 0
      },
      "text/plain": [
       "PriceLine(options={'price': 52.0, 'color': 'red', 'lineWidth': 2, 'axisLabelVisible': True, 'title': 'P/L 500'…"
      ]
     },
     "execution_count": 126,
     "metadata": {},
     "output_type": "execute_result"
    }
   ],
   "source": [
    "series2.add_priceline(pl)"
   ]
  },
  {
   "cell_type": "code",
   "execution_count": 17,
   "metadata": {},
   "outputs": [],
   "source": [
    "series2.pricelines = []"
   ]
  },
  {
   "cell_type": "code",
   "execution_count": 122,
   "metadata": {},
   "outputs": [],
   "source": [
    "series2.remove_priceline(pl)"
   ]
  },
  {
   "cell_type": "code",
   "execution_count": 125,
   "metadata": {},
   "outputs": [],
   "source": [
    "pl.options = dict(\n",
    "    price= 52.0,\n",
    "    color= 'red',\n",
    "    lineWidth= 2,\n",
    "    axisLabelVisible= True,\n",
    "    title= 'P/L 500',\n",
    ")"
   ]
  },
  {
   "cell_type": "code",
   "execution_count": 20,
   "metadata": {},
   "outputs": [
    {
     "data": {
      "text/plain": [
       "[]"
      ]
     },
     "execution_count": 20,
     "metadata": {},
     "output_type": "execute_result"
    }
   ],
   "source": [
    "series2.pricelines "
   ]
  },
  {
   "cell_type": "code",
   "execution_count": null,
   "metadata": {},
   "outputs": [],
   "source": []
  },
  {
   "cell_type": "code",
   "execution_count": null,
   "metadata": {},
   "outputs": [],
   "source": []
  }
 ],
 "metadata": {
  "kernelspec": {
   "display_name": "ipylwc-dev",
   "language": "python",
   "name": "ipylwc-dev"
  },
  "language_info": {
   "codemirror_mode": {
    "name": "ipython",
    "version": 3
   },
   "file_extension": ".py",
   "mimetype": "text/x-python",
   "name": "python",
   "nbconvert_exporter": "python",
   "pygments_lexer": "ipython3",
   "version": "3.10.6"
  },
  "widgets": {
   "application/vnd.jupyter.widget-state+json": {
    "state": {
     "0026c678d4a84c51b33ca5449eca7acf": {
      "model_module": "ipylwc",
      "model_module_version": "~0.1.4",
      "model_name": "ChartModel",
      "state": {
       "_model_module_version": "~0.1.4",
       "_view_module_version": "~0.1.4",
       "layout": "IPY_MODEL_b9dfc356c92e440d912c9702a499a9f0",
       "options": {
        "height": 500,
        "layout": {
         "background": {
          "color": "#505050",
          "type": "solid"
         },
         "textColor": "blue"
        },
        "width": 1200
       },
       "series": [
        "IPY_MODEL_612ee91bf4cb4c96b594c14ce7cc1a0f",
        "IPY_MODEL_3b73de43a384436ba146e6f012ab0d4f"
       ],
       "visibleRange": {}
      }
     },
     "0be7f993867d4a42b90995def3ec26b3": {
      "model_module": "ipylwc",
      "model_module_version": "~0.1.4",
      "model_name": "SeriesModel",
      "state": {
       "_model_module_version": "~0.1.4",
       "_view_module_version": "~0.1.4",
       "data": [
        {
         "time": "2018-12-22",
         "value": 32.51
        },
        {
         "time": "2018-12-23",
         "value": 31.11
        },
        {
         "time": "2018-12-24",
         "value": 27.02
        },
        {
         "time": "2018-12-25",
         "value": 27.32
        },
        {
         "time": "2018-12-26",
         "value": 25.17
        },
        {
         "time": "2018-12-27",
         "value": 28.89
        },
        {
         "time": "2018-12-28",
         "value": 25.46
        },
        {
         "time": "2018-12-29",
         "value": 23.92
        },
        {
         "time": "2018-12-30",
         "value": 22.68
        },
        {
         "time": "2018-12-31",
         "value": 22.67
        }
       ],
       "markers": null,
       "options": {
        "autoscaleInfoProvider": {
         "priceRange": {
          "maxValue": 200,
          "minValue": 0
         }
        }
       },
       "type": "line"
      }
     },
     "0cb693a3d3c84defa523aaad4da675b8": {
      "model_module": "ipylwc",
      "model_module_version": "~0.1.4",
      "model_name": "SeriesModel",
      "state": {
       "_model_module_version": "~0.1.4",
       "_view_module_version": "~0.1.4",
       "data": [
        {
         "time": "2018-12-22",
         "value": 32.51
        },
        {
         "time": "2018-12-23",
         "value": 31.11
        },
        {
         "time": "2018-12-24",
         "value": 27.02
        },
        {
         "time": "2018-12-25",
         "value": 27.32
        },
        {
         "time": "2018-12-26",
         "value": 25.17
        },
        {
         "time": "2018-12-27",
         "value": 28.89
        },
        {
         "time": "2018-12-28",
         "value": 25.46
        },
        {
         "time": "2018-12-29",
         "value": 23.92
        },
        {
         "time": "2018-12-30",
         "value": 22.68
        },
        {
         "time": "2018-12-31",
         "value": 22.67
        }
       ],
       "markers": null,
       "options": {
        "autoscaleInfoProvider": {
         "priceRange": {
          "maxValue": 200,
          "minValue": 0
         }
        }
       },
       "type": "line"
      }
     },
     "10c481d98f1c4d81b7cb636ce7a14485": {
      "model_module": "ipylwc",
      "model_module_version": "~0.1.4",
      "model_name": "SeriesModel",
      "state": {
       "_model_module_version": "~0.1.4",
       "_view_module_version": "~0.1.4",
       "data": [
        {
         "time": "2018-12-22",
         "value": 52.51
        },
        {
         "time": "2018-12-23",
         "value": 51.11
        },
        {
         "time": "2018-12-24",
         "value": 47.02
        },
        {
         "time": "2018-12-25",
         "value": 47.32
        },
        {
         "time": "2018-12-26",
         "value": 45.17
        },
        {
         "time": "2018-12-27",
         "value": 48.89
        },
        {
         "time": "2018-12-28",
         "value": 45.46
        },
        {
         "time": "2018-12-29",
         "value": 43.92
        },
        {
         "time": "2018-12-30",
         "value": 42.68
        },
        {
         "time": "2018-12-31",
         "value": 42.67
        }
       ],
       "markers": null,
       "options": {
        "color": "red"
       },
       "type": "area"
      }
     },
     "18bd1e17cab64885adf0da8bde935ba9": {
      "model_module": "ipylwc",
      "model_module_version": "~0.1.4",
      "model_name": "ChartModel",
      "state": {
       "_model_module_version": "~0.1.4",
       "_view_module_version": "~0.1.4",
       "layout": "IPY_MODEL_e16edd96beb84511bf2d2853c7677c0b",
       "options": {
        "height": 500,
        "layout": {
         "background": {
          "color": "#505050",
          "type": "solid"
         },
         "textColor": "blue"
        },
        "width": 1200
       },
       "series": [
        "IPY_MODEL_9b328ee70c04451d9ecf0ec2ea12c15d",
        "IPY_MODEL_e75d24286ee241beb46f9712ee0d53ac"
       ],
       "visibleRange": {}
      }
     },
     "1c8ed33879bb4b589602ea1060df8646": {
      "model_module": "ipylwc",
      "model_module_version": "~0.1.4",
      "model_name": "ChartModel",
      "state": {
       "_model_module_version": "~0.1.4",
       "_view_module_version": "~0.1.4",
       "layout": "IPY_MODEL_ca2f2d695973462fa1ef27517daf4b5d",
       "options": {
        "height": 500,
        "layout": {
         "background": {
          "color": "#505050",
          "type": "solid"
         },
         "textColor": "blue"
        },
        "width": 1200
       },
       "series": [
        "IPY_MODEL_e24f7bb0b35f470fa4adb6aedaa8f000",
        "IPY_MODEL_e689ec61d79546d0b933a397eb5a74d1"
       ],
       "visibleRange": {}
      }
     },
     "259e359aa3dd4012919089c819e3cb46": {
      "model_module": "ipylwc",
      "model_module_version": "~0.1.4",
      "model_name": "SeriesModel",
      "state": {
       "_model_module_version": "~0.1.4",
       "_view_module_version": "~0.1.4",
       "data": [
        {
         "time": "2018-12-22",
         "value": 52.51
        },
        {
         "time": "2018-12-23",
         "value": 51.11
        },
        {
         "time": "2018-12-24",
         "value": 47.02
        },
        {
         "time": "2018-12-25",
         "value": 47.32
        },
        {
         "time": "2018-12-26",
         "value": 45.17
        },
        {
         "time": "2018-12-27",
         "value": 48.89
        },
        {
         "time": "2018-12-28",
         "value": 45.46
        },
        {
         "time": "2018-12-29",
         "value": 43.92
        },
        {
         "time": "2018-12-30",
         "value": 42.68
        },
        {
         "time": "2018-12-31",
         "value": 42.67
        }
       ],
       "markers": null,
       "options": {
        "color": "red"
       },
       "type": "area"
      }
     },
     "282c9db73f3f4c2c85837385e7c1c50f": {
      "model_module": "ipylwc",
      "model_module_version": "~0.1.4",
      "model_name": "SeriesModel",
      "state": {
       "_model_module_version": "~0.1.4",
       "_view_module_version": "~0.1.4",
       "data": [
        {
         "time": "2018-12-22",
         "value": 52.51
        },
        {
         "time": "2018-12-23",
         "value": 51.11
        },
        {
         "time": "2018-12-24",
         "value": 47.02
        },
        {
         "time": "2018-12-25",
         "value": 47.32
        },
        {
         "time": "2018-12-26",
         "value": 45.17
        },
        {
         "time": "2018-12-27",
         "value": 48.89
        },
        {
         "time": "2018-12-28",
         "value": 45.46
        },
        {
         "time": "2018-12-29",
         "value": 43.92
        },
        {
         "time": "2018-12-30",
         "value": 42.68
        },
        {
         "time": "2018-12-31",
         "value": 42.67
        }
       ],
       "markers": null,
       "options": {
        "color": "red"
       },
       "type": "area"
      }
     },
     "2edb212f268c46b1940774c74e6b5522": {
      "model_module": "@jupyter-widgets/base",
      "model_module_version": "2.0.0",
      "model_name": "LayoutModel",
      "state": {}
     },
     "32cc15006be441538313b8aeb6df306a": {
      "model_module": "ipylwc",
      "model_module_version": "~0.1.4",
      "model_name": "ChartModel",
      "state": {
       "_model_module_version": "~0.1.4",
       "_view_module_version": "~0.1.4",
       "layout": "IPY_MODEL_dd7d68dbb1d642bcadf06f7a38d35a3b",
       "options": {
        "height": 500,
        "layout": {
         "background": {
          "color": "#505050",
          "type": "solid"
         },
         "textColor": "blue"
        },
        "width": 1200
       },
       "series": [
        "IPY_MODEL_70ae72fdb9d84bc9a763caaacacb44cb",
        "IPY_MODEL_c2a3192a763f482ca8d595d7bdfc8d91"
       ],
       "visibleRange": {}
      }
     },
     "38716a1424d04796a7e949ea6a64eed1": {
      "model_module": "ipylwc",
      "model_module_version": "~0.1.4",
      "model_name": "SeriesModel",
      "state": {
       "_model_module_version": "~0.1.4",
       "_view_module_version": "~0.1.4",
       "data": [
        {
         "time": "2018-12-22",
         "value": 52.51
        },
        {
         "time": "2018-12-23",
         "value": 51.11
        },
        {
         "time": "2018-12-24",
         "value": 47.02
        },
        {
         "time": "2018-12-25",
         "value": 47.32
        },
        {
         "time": "2018-12-26",
         "value": 45.17
        },
        {
         "time": "2018-12-27",
         "value": 48.89
        },
        {
         "time": "2018-12-28",
         "value": 45.46
        },
        {
         "time": "2018-12-29",
         "value": 43.92
        },
        {
         "time": "2018-12-30",
         "value": 42.68
        },
        {
         "time": "2018-12-31",
         "value": 42.67
        }
       ],
       "markers": null,
       "options": {
        "color": "red"
       },
       "pricelines": [
        "IPY_MODEL_57b0908522844f1ab0aebc58403c3a57"
       ],
       "type": "area"
      }
     },
     "3b73de43a384436ba146e6f012ab0d4f": {
      "model_module": "ipylwc",
      "model_module_version": "~0.1.4",
      "model_name": "SeriesModel",
      "state": {
       "_model_module_version": "~0.1.4",
       "_view_module_version": "~0.1.4",
       "data": [
        {
         "time": "2018-12-22",
         "value": 52.51
        },
        {
         "time": "2018-12-23",
         "value": 51.11
        },
        {
         "time": "2018-12-24",
         "value": 47.02
        },
        {
         "time": "2018-12-25",
         "value": 47.32
        },
        {
         "time": "2018-12-26",
         "value": 45.17
        },
        {
         "time": "2018-12-27",
         "value": 48.89
        },
        {
         "time": "2018-12-28",
         "value": 45.46
        },
        {
         "time": "2018-12-29",
         "value": 43.92
        },
        {
         "time": "2018-12-30",
         "value": 42.68
        },
        {
         "time": "2018-12-31",
         "value": 42.67
        }
       ],
       "markers": null,
       "options": {
        "color": "red"
       },
       "type": "area"
      }
     },
     "426a21b28e074aff8c702b0bbf623423": {
      "model_module": "ipylwc",
      "model_module_version": "~0.1.4",
      "model_name": "SeriesModel",
      "state": {
       "_model_module_version": "~0.1.4",
       "_view_module_version": "~0.1.4",
       "data": [
        {
         "_internal_originalTime": "2018-12-22",
         "time": {
          "day": 22,
          "month": 12,
          "year": 2018
         },
         "value": 52.51
        },
        {
         "_internal_originalTime": "2018-12-23",
         "time": {
          "day": 23,
          "month": 12,
          "year": 2018
         },
         "value": 51.11
        },
        {
         "_internal_originalTime": "2018-12-24",
         "time": {
          "day": 24,
          "month": 12,
          "year": 2018
         },
         "value": 47.02
        },
        {
         "_internal_originalTime": "2018-12-25",
         "time": {
          "day": 25,
          "month": 12,
          "year": 2018
         },
         "value": 47.32
        },
        {
         "_internal_originalTime": "2018-12-26",
         "time": {
          "day": 26,
          "month": 12,
          "year": 2018
         },
         "value": 45.17
        },
        {
         "_internal_originalTime": "2018-12-27",
         "time": {
          "day": 27,
          "month": 12,
          "year": 2018
         },
         "value": 48.89
        },
        {
         "_internal_originalTime": "2018-12-28",
         "time": {
          "day": 28,
          "month": 12,
          "year": 2018
         },
         "value": 45.46
        },
        {
         "_internal_originalTime": "2018-12-29",
         "time": {
          "day": 29,
          "month": 12,
          "year": 2018
         },
         "value": 43.92
        },
        {
         "_internal_originalTime": "2018-12-30",
         "time": {
          "day": 30,
          "month": 12,
          "year": 2018
         },
         "value": 42.68
        },
        {
         "_internal_originalTime": "2018-12-31",
         "time": {
          "day": 31,
          "month": 12,
          "year": 2018
         },
         "value": 42.67
        }
       ],
       "markers": null,
       "options": {
        "color": "red"
       },
       "pricelines": [
        "IPY_MODEL_6f0361d946c34d8c9df76845618130ba"
       ],
       "type": "area"
      }
     },
     "44a58abd32a945148e6594bf090b3407": {
      "model_module": "@jupyter-widgets/base",
      "model_module_version": "2.0.0",
      "model_name": "LayoutModel",
      "state": {}
     },
     "45708293dfb74b1292deb0ac4fa9c537": {
      "model_module": "@jupyter-widgets/base",
      "model_module_version": "2.0.0",
      "model_name": "LayoutModel",
      "state": {}
     },
     "45981a12b83c4bd7982dc7f7eff58467": {
      "model_module": "ipylwc",
      "model_module_version": "~0.1.4",
      "model_name": "SeriesModel",
      "state": {
       "_model_module_version": "~0.1.4",
       "_view_module_version": "~0.1.4",
       "data": [
        {
         "time": "2018-12-22",
         "value": 52.51
        },
        {
         "time": "2018-12-23",
         "value": 51.11
        },
        {
         "time": "2018-12-24",
         "value": 47.02
        },
        {
         "time": "2018-12-25",
         "value": 47.32
        },
        {
         "time": "2018-12-26",
         "value": 45.17
        },
        {
         "time": "2018-12-27",
         "value": 48.89
        },
        {
         "time": "2018-12-28",
         "value": 45.46
        },
        {
         "time": "2018-12-29",
         "value": 43.92
        },
        {
         "time": "2018-12-30",
         "value": 42.68
        },
        {
         "time": "2018-12-31",
         "value": 42.67
        }
       ],
       "markers": null,
       "options": {
        "color": "red"
       },
       "type": "area"
      }
     },
     "47e8c5c4b86a412ea4e53215a059c98d": {
      "model_module": "ipylwc",
      "model_module_version": "~0.1.4",
      "model_name": "SeriesModel",
      "state": {
       "_model_module_version": "~0.1.4",
       "_view_module_version": "~0.1.4",
       "data": [
        {
         "time": "2018-12-22",
         "value": 32.51
        },
        {
         "time": "2018-12-23",
         "value": 31.11
        },
        {
         "time": "2018-12-24",
         "value": 27.02
        },
        {
         "time": "2018-12-25",
         "value": 27.32
        },
        {
         "time": "2018-12-26",
         "value": 25.17
        },
        {
         "time": "2018-12-27",
         "value": 28.89
        },
        {
         "time": "2018-12-28",
         "value": 25.46
        },
        {
         "time": "2018-12-29",
         "value": 23.92
        },
        {
         "time": "2018-12-30",
         "value": 22.68
        },
        {
         "time": "2018-12-31",
         "value": 22.67
        }
       ],
       "markers": null,
       "options": {
        "autoscaleInfoProvider": {
         "priceRange": {
          "maxValue": 200,
          "minValue": 0
         }
        }
       },
       "type": "line"
      }
     },
     "518c6bc035904067831639e40063a872": {
      "model_module": "ipylwc",
      "model_module_version": "~0.1.4",
      "model_name": "ChartModel",
      "state": {
       "_model_module_version": "~0.1.4",
       "_view_module_version": "~0.1.4",
       "layout": "IPY_MODEL_697c07c73054484aa46dc33e4e355b51",
       "options": {
        "height": 500,
        "layout": {
         "background": {
          "color": "#505050",
          "type": "solid"
         },
         "textColor": "blue"
        },
        "width": 1200
       },
       "series": [
        "IPY_MODEL_0be7f993867d4a42b90995def3ec26b3",
        "IPY_MODEL_d30a74120a4e42ceb6f3fdabf35f69c5"
       ],
       "visibleRange": {}
      }
     },
     "57b0908522844f1ab0aebc58403c3a57": {
      "model_module": "ipylwc",
      "model_module_version": "~0.1.4",
      "model_name": "PriceLineModel",
      "state": {
       "_model_module_version": "~0.1.4",
       "_view_module_version": "~0.1.4",
       "options": {
        "axisLabelVisible": true,
        "color": "red",
        "lineWidth": 2,
        "price": 42,
        "title": "P/L 500"
       }
      }
     },
     "5fc14f60210d458da1150a605e528500": {
      "model_module": "ipylwc",
      "model_module_version": "~0.1.4",
      "model_name": "SeriesModel",
      "state": {
       "_model_module_version": "~0.1.4",
       "_view_module_version": "~0.1.4",
       "data": [
        {
         "time": "2018-12-22",
         "value": 32.51
        },
        {
         "time": "2018-12-23",
         "value": 31.11
        },
        {
         "time": "2018-12-24",
         "value": 27.02
        },
        {
         "time": "2018-12-25",
         "value": 27.32
        },
        {
         "time": "2018-12-26",
         "value": 25.17
        },
        {
         "time": "2018-12-27",
         "value": 28.89
        },
        {
         "time": "2018-12-28",
         "value": 25.46
        },
        {
         "time": "2018-12-29",
         "value": 23.92
        },
        {
         "time": "2018-12-30",
         "value": 22.68
        },
        {
         "time": "2018-12-31",
         "value": 22.67
        }
       ],
       "markers": null,
       "options": {
        "autoscaleInfoProvider": {
         "priceRange": {
          "maxValue": 200,
          "minValue": 0
         }
        }
       },
       "type": "line"
      }
     },
     "612ee91bf4cb4c96b594c14ce7cc1a0f": {
      "model_module": "ipylwc",
      "model_module_version": "~0.1.4",
      "model_name": "SeriesModel",
      "state": {
       "_model_module_version": "~0.1.4",
       "_view_module_version": "~0.1.4",
       "data": [
        {
         "time": "2018-12-22",
         "value": 32.51
        },
        {
         "time": "2018-12-23",
         "value": 31.11
        },
        {
         "time": "2018-12-24",
         "value": 27.02
        },
        {
         "time": "2018-12-25",
         "value": 27.32
        },
        {
         "time": "2018-12-26",
         "value": 25.17
        },
        {
         "time": "2018-12-27",
         "value": 28.89
        },
        {
         "time": "2018-12-28",
         "value": 25.46
        },
        {
         "time": "2018-12-29",
         "value": 23.92
        },
        {
         "time": "2018-12-30",
         "value": 22.68
        },
        {
         "time": "2018-12-31",
         "value": 22.67
        }
       ],
       "markers": null,
       "options": {
        "autoscaleInfoProvider": {
         "priceRange": {
          "maxValue": 200,
          "minValue": 0
         }
        }
       },
       "type": "line"
      }
     },
     "61c5f9ca1ea94fcab8125e432f897863": {
      "model_module": "ipylwc",
      "model_module_version": "~0.1.4",
      "model_name": "SeriesModel",
      "state": {
       "_model_module_version": "~0.1.4",
       "_view_module_version": "~0.1.4",
       "data": [
        {
         "time": "2018-12-22",
         "value": 52.51
        },
        {
         "time": "2018-12-23",
         "value": 51.11
        },
        {
         "time": "2018-12-24",
         "value": 47.02
        },
        {
         "time": "2018-12-25",
         "value": 47.32
        },
        {
         "time": "2018-12-26",
         "value": 45.17
        },
        {
         "time": "2018-12-27",
         "value": 48.89
        },
        {
         "time": "2018-12-28",
         "value": 45.46
        },
        {
         "time": "2018-12-29",
         "value": 43.92
        },
        {
         "time": "2018-12-30",
         "value": 42.68
        },
        {
         "time": "2018-12-31",
         "value": 42.67
        }
       ],
       "markers": null,
       "options": {
        "color": "red"
       },
       "type": "area"
      }
     },
     "624c8078e14249eaa8e807ba48246026": {
      "model_module": "ipylwc",
      "model_module_version": "~0.1.4",
      "model_name": "SeriesModel",
      "state": {
       "_model_module_version": "~0.1.4",
       "_view_module_version": "~0.1.4",
       "data": [
        {
         "time": "2018-12-22",
         "value": 32.51
        },
        {
         "time": "2018-12-23",
         "value": 31.11
        },
        {
         "time": "2018-12-24",
         "value": 27.02
        },
        {
         "time": "2018-12-25",
         "value": 27.32
        },
        {
         "time": "2018-12-26",
         "value": 25.17
        },
        {
         "time": "2018-12-27",
         "value": 28.89
        },
        {
         "time": "2018-12-28",
         "value": 25.46
        },
        {
         "time": "2018-12-29",
         "value": 23.92
        },
        {
         "time": "2018-12-30",
         "value": 22.68
        },
        {
         "time": "2018-12-31",
         "value": 22.67
        }
       ],
       "markers": null,
       "options": {
        "color": "yellow",
        "priceLineVisible": true
       },
       "type": "line"
      }
     },
     "657a9fd196414a50adb18948d1e5f1c7": {
      "model_module": "ipylwc",
      "model_module_version": "~0.1.4",
      "model_name": "ChartModel",
      "state": {
       "_model_module_version": "~0.1.4",
       "_view_module_version": "~0.1.4",
       "layout": "IPY_MODEL_44a58abd32a945148e6594bf090b3407",
       "options": {
        "height": 500,
        "layout": {
         "background": {
          "color": "#505050",
          "type": "solid"
         },
         "textColor": "blue"
        },
        "width": 1200
       },
       "series": [
        "IPY_MODEL_a1436e01a3fa40ee9d29d71e917fe81b",
        "IPY_MODEL_9d3d1ec00ca84da29a0bdc1bf31c5f81"
       ],
       "visibleRange": {}
      }
     },
     "697c07c73054484aa46dc33e4e355b51": {
      "model_module": "@jupyter-widgets/base",
      "model_module_version": "2.0.0",
      "model_name": "LayoutModel",
      "state": {}
     },
     "6f0361d946c34d8c9df76845618130ba": {
      "model_module": "ipylwc",
      "model_module_version": "~0.1.4",
      "model_name": "PriceLineModel",
      "state": {
       "_model_module_version": "~0.1.4",
       "_view_module_version": "~0.1.4",
       "options": {
        "axisLabelVisible": true,
        "color": "red",
        "lineWidth": 2,
        "price": 52,
        "title": "P/L 500"
       }
      }
     },
     "6f25626114c74ed4a6e64948c143c7f0": {
      "model_module": "ipylwc",
      "model_module_version": "~0.1.4",
      "model_name": "ChartModel",
      "state": {
       "_model_module_version": "~0.1.4",
       "_view_module_version": "~0.1.4",
       "layout": "IPY_MODEL_acfe00e338c7496ebb706a8a54bb4993",
       "options": {
        "height": 500,
        "layout": {
         "background": {
          "color": "#505050",
          "type": "solid"
         },
         "textColor": "blue"
        },
        "width": 1200
       },
       "series": [
        "IPY_MODEL_f31346e97bb24422998b4483777fa156",
        "IPY_MODEL_426a21b28e074aff8c702b0bbf623423"
       ],
       "visibleRange": {}
      }
     },
     "70ae72fdb9d84bc9a763caaacacb44cb": {
      "model_module": "ipylwc",
      "model_module_version": "~0.1.4",
      "model_name": "SeriesModel",
      "state": {
       "_model_module_version": "~0.1.4",
       "_view_module_version": "~0.1.4",
       "data": [
        {
         "time": "2018-12-22",
         "value": 32.51
        },
        {
         "time": "2018-12-23",
         "value": 31.11
        },
        {
         "time": "2018-12-24",
         "value": 27.02
        },
        {
         "time": "2018-12-25",
         "value": 27.32
        },
        {
         "time": "2018-12-26",
         "value": 25.17
        },
        {
         "time": "2018-12-27",
         "value": 28.89
        },
        {
         "time": "2018-12-28",
         "value": 25.46
        },
        {
         "time": "2018-12-29",
         "value": 23.92
        },
        {
         "time": "2018-12-30",
         "value": 22.68
        },
        {
         "time": "2018-12-31",
         "value": 22.67
        }
       ],
       "markers": null,
       "options": {
        "autoscaleInfoProvider": {
         "priceRange": {
          "maxValue": 200,
          "minValue": 0
         }
        }
       },
       "type": "line"
      }
     },
     "7941885453df45f381b009ad1774806f": {
      "model_module": "ipylwc",
      "model_module_version": "~0.1.4",
      "model_name": "SeriesModel",
      "state": {
       "_model_module_version": "~0.1.4",
       "_view_module_version": "~0.1.4",
       "data": [
        {
         "time": "2018-12-22",
         "value": 32.51
        },
        {
         "time": "2018-12-23",
         "value": 31.11
        },
        {
         "time": "2018-12-24",
         "value": 27.02
        },
        {
         "time": "2018-12-25",
         "value": 27.32
        },
        {
         "time": "2018-12-26",
         "value": 25.17
        },
        {
         "time": "2018-12-27",
         "value": 28.89
        },
        {
         "time": "2018-12-28",
         "value": 25.46
        },
        {
         "time": "2018-12-29",
         "value": 23.92
        },
        {
         "time": "2018-12-30",
         "value": 22.68
        },
        {
         "time": "2018-12-31",
         "value": 22.67
        }
       ],
       "markers": null,
       "options": {
        "autoscaleInfoProvider": {
         "priceRange": {
          "maxValue": 200,
          "minValue": 0
         }
        }
       },
       "type": "line"
      }
     },
     "7f8c923fe6044526ad90f1aa44edaa2e": {
      "model_module": "ipylwc",
      "model_module_version": "~0.1.4",
      "model_name": "ChartModel",
      "state": {
       "_model_module_version": "~0.1.4",
       "_view_module_version": "~0.1.4",
       "layout": "IPY_MODEL_8f13bdf501de4eefb663da47c87b81dc",
       "options": {
        "height": 500,
        "layout": {
         "background": {
          "color": "#505050",
          "type": "solid"
         },
         "textColor": "blue"
        },
        "width": 1200
       },
       "series": [
        "IPY_MODEL_47e8c5c4b86a412ea4e53215a059c98d",
        "IPY_MODEL_45981a12b83c4bd7982dc7f7eff58467"
       ],
       "visibleRange": {}
      }
     },
     "8a71d13ade734631b79e016066c6f680": {
      "model_module": "ipylwc",
      "model_module_version": "~0.1.4",
      "model_name": "ChartModel",
      "state": {
       "_model_module_version": "~0.1.4",
       "_view_module_version": "~0.1.4",
       "layout": "IPY_MODEL_a0e61aa273384d82974b54987d97d323",
       "options": {
        "height": 500,
        "layout": {
         "background": {
          "color": "#505050",
          "type": "solid"
         },
         "textColor": "blue"
        },
        "width": 1200
       },
       "series": [
        "IPY_MODEL_d06e03f3a589441eabd0f22d71840a3e",
        "IPY_MODEL_38716a1424d04796a7e949ea6a64eed1"
       ],
       "visibleRange": {}
      }
     },
     "8f13bdf501de4eefb663da47c87b81dc": {
      "model_module": "@jupyter-widgets/base",
      "model_module_version": "2.0.0",
      "model_name": "LayoutModel",
      "state": {}
     },
     "91300e6a19bd413cb85fdeef189d350d": {
      "model_module": "ipylwc",
      "model_module_version": "~0.1.4",
      "model_name": "ChartModel",
      "state": {
       "_model_module_version": "~0.1.4",
       "_view_module_version": "~0.1.4",
       "layout": "IPY_MODEL_45708293dfb74b1292deb0ac4fa9c537",
       "options": {
        "height": 500,
        "layout": {
         "background": {
          "color": "#505050",
          "type": "solid"
         },
         "textColor": "blue"
        },
        "width": 1200
       },
       "series": [
        "IPY_MODEL_e5dff3c234014abc8ab79d6e35755a4d",
        "IPY_MODEL_ba935e0fc70a45cfbab44b0d55e6563a"
       ],
       "visibleRange": {}
      }
     },
     "9b19bf915ea749dfa795c1a07fec4ada": {
      "model_module": "@jupyter-widgets/base",
      "model_module_version": "2.0.0",
      "model_name": "LayoutModel",
      "state": {}
     },
     "9b328ee70c04451d9ecf0ec2ea12c15d": {
      "model_module": "ipylwc",
      "model_module_version": "~0.1.4",
      "model_name": "SeriesModel",
      "state": {
       "_model_module_version": "~0.1.4",
       "_view_module_version": "~0.1.4",
       "data": [
        {
         "time": "2018-12-22",
         "value": 32.51
        },
        {
         "time": "2018-12-23",
         "value": 31.11
        },
        {
         "time": "2018-12-24",
         "value": 27.02
        },
        {
         "time": "2018-12-25",
         "value": 27.32
        },
        {
         "time": "2018-12-26",
         "value": 25.17
        },
        {
         "time": "2018-12-27",
         "value": 28.89
        },
        {
         "time": "2018-12-28",
         "value": 25.46
        },
        {
         "time": "2018-12-29",
         "value": 23.92
        },
        {
         "time": "2018-12-30",
         "value": 22.68
        },
        {
         "time": "2018-12-31",
         "value": 22.67
        }
       ],
       "markers": null,
       "options": {
        "autoscaleInfoProvider": {
         "priceRange": {
          "maxValue": 200,
          "minValue": 0
         }
        }
       },
       "type": "line"
      }
     },
     "9d3d1ec00ca84da29a0bdc1bf31c5f81": {
      "model_module": "ipylwc",
      "model_module_version": "~0.1.4",
      "model_name": "SeriesModel",
      "state": {
       "_model_module_version": "~0.1.4",
       "_view_module_version": "~0.1.4",
       "data": [
        {
         "time": "2018-12-22",
         "value": 52.51
        },
        {
         "time": "2018-12-23",
         "value": 51.11
        },
        {
         "time": "2018-12-24",
         "value": 47.02
        },
        {
         "time": "2018-12-25",
         "value": 47.32
        },
        {
         "time": "2018-12-26",
         "value": 45.17
        },
        {
         "time": "2018-12-27",
         "value": 48.89
        },
        {
         "time": "2018-12-28",
         "value": 45.46
        },
        {
         "time": "2018-12-29",
         "value": 43.92
        },
        {
         "time": "2018-12-30",
         "value": 42.68
        },
        {
         "time": "2018-12-31",
         "value": 42.67
        }
       ],
       "markers": null,
       "options": {
        "color": "red"
       },
       "type": "area"
      }
     },
     "9dfd14c442264ef38f702b4807ea9b63": {
      "model_module": "@jupyter-widgets/base",
      "model_module_version": "2.0.0",
      "model_name": "LayoutModel",
      "state": {}
     },
     "a0610446759540c5ba68b69cba69ebb1": {
      "model_module": "ipylwc",
      "model_module_version": "~0.1.4",
      "model_name": "ChartModel",
      "state": {
       "_model_module_version": "~0.1.4",
       "_view_module_version": "~0.1.4",
       "layout": "IPY_MODEL_9b19bf915ea749dfa795c1a07fec4ada",
       "options": {
        "height": 500,
        "layout": {
         "background": {
          "color": "#505050",
          "type": "solid"
         },
         "textColor": "blue"
        },
        "width": 1200
       },
       "series": [
        "IPY_MODEL_7941885453df45f381b009ad1774806f",
        "IPY_MODEL_10c481d98f1c4d81b7cb636ce7a14485"
       ],
       "visibleRange": {}
      }
     },
     "a0df52e8b95540bd8fe5d9069c16ac79": {
      "model_module": "ipylwc",
      "model_module_version": "~0.1.4",
      "model_name": "ChartModel",
      "state": {
       "_model_module_version": "~0.1.4",
       "_view_module_version": "~0.1.4",
       "layout": "IPY_MODEL_c1cd50d3a1054bf4a0bcef158ba432e1",
       "options": {
        "height": 500,
        "layout": {
         "background": {
          "color": "#505050",
          "type": "solid"
         },
         "textColor": "blue"
        },
        "width": 1200
       },
       "series": [
        "IPY_MODEL_5fc14f60210d458da1150a605e528500",
        "IPY_MODEL_282c9db73f3f4c2c85837385e7c1c50f"
       ],
       "visibleRange": {}
      }
     },
     "a0e61aa273384d82974b54987d97d323": {
      "model_module": "@jupyter-widgets/base",
      "model_module_version": "2.0.0",
      "model_name": "LayoutModel",
      "state": {}
     },
     "a1436e01a3fa40ee9d29d71e917fe81b": {
      "model_module": "ipylwc",
      "model_module_version": "~0.1.4",
      "model_name": "SeriesModel",
      "state": {
       "_model_module_version": "~0.1.4",
       "_view_module_version": "~0.1.4",
       "data": [
        {
         "time": "2018-12-22",
         "value": 32.51
        },
        {
         "time": "2018-12-23",
         "value": 31.11
        },
        {
         "time": "2018-12-24",
         "value": 27.02
        },
        {
         "time": "2018-12-25",
         "value": 27.32
        },
        {
         "time": "2018-12-26",
         "value": 25.17
        },
        {
         "time": "2018-12-27",
         "value": 28.89
        },
        {
         "time": "2018-12-28",
         "value": 25.46
        },
        {
         "time": "2018-12-29",
         "value": 23.92
        },
        {
         "time": "2018-12-30",
         "value": 22.68
        },
        {
         "time": "2018-12-31",
         "value": 22.67
        }
       ],
       "markers": null,
       "options": {
        "autoscaleInfoProvider": {
         "priceRange": {
          "maxValue": 200,
          "minValue": 0
         }
        }
       },
       "type": "line"
      }
     },
     "a722c58a88554b82841fc189e99b8cec": {
      "model_module": "ipylwc",
      "model_module_version": "~0.1.4",
      "model_name": "PriceLineModel",
      "state": {
       "_model_module_version": "~0.1.4",
       "_view_module_version": "~0.1.4",
       "options": {
        "axisLabelVisible": true,
        "color": "red",
        "lineWidth": 2,
        "price": 52,
        "title": "P/L 500"
       }
      }
     },
     "acfe00e338c7496ebb706a8a54bb4993": {
      "model_module": "@jupyter-widgets/base",
      "model_module_version": "2.0.0",
      "model_name": "LayoutModel",
      "state": {}
     },
     "b9dfc356c92e440d912c9702a499a9f0": {
      "model_module": "@jupyter-widgets/base",
      "model_module_version": "2.0.0",
      "model_name": "LayoutModel",
      "state": {}
     },
     "ba935e0fc70a45cfbab44b0d55e6563a": {
      "model_module": "ipylwc",
      "model_module_version": "~0.1.4",
      "model_name": "SeriesModel",
      "state": {
       "_model_module_version": "~0.1.4",
       "_view_module_version": "~0.1.4",
       "data": [
        {
         "time": "2018-12-22",
         "value": 52.51
        },
        {
         "time": "2018-12-23",
         "value": 51.11
        },
        {
         "time": "2018-12-24",
         "value": 47.02
        },
        {
         "time": "2018-12-25",
         "value": 47.32
        },
        {
         "time": "2018-12-26",
         "value": 45.17
        },
        {
         "time": "2018-12-27",
         "value": 48.89
        },
        {
         "time": "2018-12-28",
         "value": 45.46
        },
        {
         "time": "2018-12-29",
         "value": 43.92
        },
        {
         "time": "2018-12-30",
         "value": 42.68
        },
        {
         "time": "2018-12-31",
         "value": 42.67
        }
       ],
       "markers": null,
       "options": {
        "color": "red"
       },
       "type": "area"
      }
     },
     "bd83f5663deb41e2b7c80d8c8ea18270": {
      "model_module": "ipylwc",
      "model_module_version": "~0.1.4",
      "model_name": "ChartModel",
      "state": {
       "_model_module_version": "~0.1.4",
       "_view_module_version": "~0.1.4",
       "layout": "IPY_MODEL_9dfd14c442264ef38f702b4807ea9b63",
       "options": {
        "height": 500,
        "layout": {
         "background": {
          "color": "#222",
          "type": "solid"
         },
         "textColor": "blue"
        },
        "width": 1200
       },
       "series": [
        "IPY_MODEL_624c8078e14249eaa8e807ba48246026",
        "IPY_MODEL_61c5f9ca1ea94fcab8125e432f897863"
       ],
       "visibleRange": {}
      }
     },
     "c1cd50d3a1054bf4a0bcef158ba432e1": {
      "model_module": "@jupyter-widgets/base",
      "model_module_version": "2.0.0",
      "model_name": "LayoutModel",
      "state": {}
     },
     "c2a3192a763f482ca8d595d7bdfc8d91": {
      "model_module": "ipylwc",
      "model_module_version": "~0.1.4",
      "model_name": "SeriesModel",
      "state": {
       "_model_module_version": "~0.1.4",
       "_view_module_version": "~0.1.4",
       "data": [
        {
         "time": "2018-12-22",
         "value": 52.51
        },
        {
         "time": "2018-12-23",
         "value": 51.11
        },
        {
         "time": "2018-12-24",
         "value": 47.02
        },
        {
         "time": "2018-12-25",
         "value": 47.32
        },
        {
         "time": "2018-12-26",
         "value": 45.17
        },
        {
         "time": "2018-12-27",
         "value": 48.89
        },
        {
         "time": "2018-12-28",
         "value": 45.46
        },
        {
         "time": "2018-12-29",
         "value": 43.92
        },
        {
         "time": "2018-12-30",
         "value": 42.68
        },
        {
         "time": "2018-12-31",
         "value": 42.67
        }
       ],
       "markers": null,
       "options": {
        "color": "red"
       },
       "type": "area"
      }
     },
     "ca2f2d695973462fa1ef27517daf4b5d": {
      "model_module": "@jupyter-widgets/base",
      "model_module_version": "2.0.0",
      "model_name": "LayoutModel",
      "state": {}
     },
     "cfb61d619256408f9c9631021eb986ad": {
      "model_module": "@jupyter-widgets/base",
      "model_module_version": "2.0.0",
      "model_name": "LayoutModel",
      "state": {}
     },
     "d06e03f3a589441eabd0f22d71840a3e": {
      "model_module": "ipylwc",
      "model_module_version": "~0.1.4",
      "model_name": "SeriesModel",
      "state": {
       "_model_module_version": "~0.1.4",
       "_view_module_version": "~0.1.4",
       "data": [
        {
         "time": "2018-12-22",
         "value": 32.51
        },
        {
         "time": "2018-12-23",
         "value": 31.11
        },
        {
         "time": "2018-12-24",
         "value": 27.02
        },
        {
         "time": "2018-12-25",
         "value": 27.32
        },
        {
         "time": "2018-12-26",
         "value": 25.17
        },
        {
         "time": "2018-12-27",
         "value": 28.89
        },
        {
         "time": "2018-12-28",
         "value": 25.46
        },
        {
         "time": "2018-12-29",
         "value": 23.92
        },
        {
         "time": "2018-12-30",
         "value": 22.68
        },
        {
         "time": "2018-12-31",
         "value": 22.67
        }
       ],
       "markers": null,
       "options": {
        "color": "orange"
       },
       "type": "line"
      }
     },
     "d30a74120a4e42ceb6f3fdabf35f69c5": {
      "model_module": "ipylwc",
      "model_module_version": "~0.1.4",
      "model_name": "SeriesModel",
      "state": {
       "_model_module_version": "~0.1.4",
       "_view_module_version": "~0.1.4",
       "data": [
        {
         "time": "2018-12-22",
         "value": 52.51
        },
        {
         "time": "2018-12-23",
         "value": 51.11
        },
        {
         "time": "2018-12-24",
         "value": 47.02
        },
        {
         "time": "2018-12-25",
         "value": 47.32
        },
        {
         "time": "2018-12-26",
         "value": 45.17
        },
        {
         "time": "2018-12-27",
         "value": 48.89
        },
        {
         "time": "2018-12-28",
         "value": 45.46
        },
        {
         "time": "2018-12-29",
         "value": 43.92
        },
        {
         "time": "2018-12-30",
         "value": 42.68
        },
        {
         "time": "2018-12-31",
         "value": 42.67
        }
       ],
       "markers": null,
       "options": {
        "color": "red"
       },
       "type": "area"
      }
     },
     "dd7d68dbb1d642bcadf06f7a38d35a3b": {
      "model_module": "@jupyter-widgets/base",
      "model_module_version": "2.0.0",
      "model_name": "LayoutModel",
      "state": {}
     },
     "e0e6ac8d802e4f2ba7e98cef35b18db9": {
      "model_module": "ipylwc",
      "model_module_version": "~0.1.4",
      "model_name": "ChartModel",
      "state": {
       "_model_module_version": "~0.1.4",
       "_view_module_version": "~0.1.4",
       "layout": "IPY_MODEL_2edb212f268c46b1940774c74e6b5522",
       "options": {
        "height": 500,
        "layout": {
         "background": {
          "color": "#505050",
          "type": "solid"
         },
         "textColor": "blue"
        },
        "width": 1200
       },
       "series": [
        "IPY_MODEL_0cb693a3d3c84defa523aaad4da675b8",
        "IPY_MODEL_eea71681622c4dada8d1a0bc39d6b048"
       ],
       "visibleRange": {}
      }
     },
     "e16edd96beb84511bf2d2853c7677c0b": {
      "model_module": "@jupyter-widgets/base",
      "model_module_version": "2.0.0",
      "model_name": "LayoutModel",
      "state": {}
     },
     "e24f7bb0b35f470fa4adb6aedaa8f000": {
      "model_module": "ipylwc",
      "model_module_version": "~0.1.4",
      "model_name": "SeriesModel",
      "state": {
       "_model_module_version": "~0.1.4",
       "_view_module_version": "~0.1.4",
       "data": [
        {
         "time": "2018-12-22",
         "value": 32.51
        },
        {
         "time": "2018-12-23",
         "value": 31.11
        },
        {
         "time": "2018-12-24",
         "value": 27.02
        },
        {
         "time": "2018-12-25",
         "value": 27.32
        },
        {
         "time": "2018-12-26",
         "value": 25.17
        },
        {
         "time": "2018-12-27",
         "value": 28.89
        },
        {
         "time": "2018-12-28",
         "value": 25.46
        },
        {
         "time": "2018-12-29",
         "value": 23.92
        },
        {
         "time": "2018-12-30",
         "value": 22.68
        },
        {
         "time": "2018-12-31",
         "value": 22.67
        }
       ],
       "markers": null,
       "options": {
        "autoscaleInfoProvider": {
         "priceRange": {
          "maxValue": 200,
          "minValue": 0
         }
        }
       },
       "type": "line"
      }
     },
     "e5dff3c234014abc8ab79d6e35755a4d": {
      "model_module": "ipylwc",
      "model_module_version": "~0.1.4",
      "model_name": "SeriesModel",
      "state": {
       "_model_module_version": "~0.1.4",
       "_view_module_version": "~0.1.4",
       "data": [
        {
         "time": "2018-12-22",
         "value": 32.51
        },
        {
         "time": "2018-12-23",
         "value": 31.11
        },
        {
         "time": "2018-12-24",
         "value": 27.02
        },
        {
         "time": "2018-12-25",
         "value": 27.32
        },
        {
         "time": "2018-12-26",
         "value": 25.17
        },
        {
         "time": "2018-12-27",
         "value": 28.89
        },
        {
         "time": "2018-12-28",
         "value": 25.46
        },
        {
         "time": "2018-12-29",
         "value": 23.92
        },
        {
         "time": "2018-12-30",
         "value": 22.68
        },
        {
         "time": "2018-12-31",
         "value": 22.67
        }
       ],
       "markers": null,
       "options": {
        "autoscaleInfoProvider": {
         "priceRange": {
          "maxValue": 200,
          "minValue": 0
         }
        }
       },
       "type": "line"
      }
     },
     "e689ec61d79546d0b933a397eb5a74d1": {
      "model_module": "ipylwc",
      "model_module_version": "~0.1.4",
      "model_name": "SeriesModel",
      "state": {
       "_model_module_version": "~0.1.4",
       "_view_module_version": "~0.1.4",
       "data": [
        {
         "time": "2018-12-22",
         "value": 52.51
        },
        {
         "time": "2018-12-23",
         "value": 51.11
        },
        {
         "time": "2018-12-24",
         "value": 47.02
        },
        {
         "time": "2018-12-25",
         "value": 47.32
        },
        {
         "time": "2018-12-26",
         "value": 45.17
        },
        {
         "time": "2018-12-27",
         "value": 48.89
        },
        {
         "time": "2018-12-28",
         "value": 45.46
        },
        {
         "time": "2018-12-29",
         "value": 43.92
        },
        {
         "time": "2018-12-30",
         "value": 42.68
        },
        {
         "time": "2018-12-31",
         "value": 42.67
        }
       ],
       "markers": null,
       "options": {
        "color": "red"
       },
       "type": "area"
      }
     },
     "e75d24286ee241beb46f9712ee0d53ac": {
      "model_module": "ipylwc",
      "model_module_version": "~0.1.4",
      "model_name": "SeriesModel",
      "state": {
       "_model_module_version": "~0.1.4",
       "_view_module_version": "~0.1.4",
       "data": [
        {
         "time": "2018-12-22",
         "value": 52.51
        },
        {
         "time": "2018-12-23",
         "value": 51.11
        },
        {
         "time": "2018-12-24",
         "value": 47.02
        },
        {
         "time": "2018-12-25",
         "value": 47.32
        },
        {
         "time": "2018-12-26",
         "value": 45.17
        },
        {
         "time": "2018-12-27",
         "value": 48.89
        },
        {
         "time": "2018-12-28",
         "value": 45.46
        },
        {
         "time": "2018-12-29",
         "value": 43.92
        },
        {
         "time": "2018-12-30",
         "value": 42.68
        },
        {
         "time": "2018-12-31",
         "value": 42.67
        }
       ],
       "markers": null,
       "options": {
        "color": "red"
       },
       "type": "area"
      }
     },
     "eea71681622c4dada8d1a0bc39d6b048": {
      "model_module": "ipylwc",
      "model_module_version": "~0.1.4",
      "model_name": "SeriesModel",
      "state": {
       "_model_module_version": "~0.1.4",
       "_view_module_version": "~0.1.4",
       "data": [
        {
         "time": "2018-12-22",
         "value": 52.51
        },
        {
         "time": "2018-12-23",
         "value": 51.11
        },
        {
         "time": "2018-12-24",
         "value": 47.02
        },
        {
         "time": "2018-12-25",
         "value": 47.32
        },
        {
         "time": "2018-12-26",
         "value": 45.17
        },
        {
         "time": "2018-12-27",
         "value": 48.89
        },
        {
         "time": "2018-12-28",
         "value": 45.46
        },
        {
         "time": "2018-12-29",
         "value": 43.92
        },
        {
         "time": "2018-12-30",
         "value": 42.68
        },
        {
         "time": "2018-12-31",
         "value": 42.67
        }
       ],
       "markers": null,
       "options": {
        "color": "red"
       },
       "type": "area"
      }
     },
     "f31346e97bb24422998b4483777fa156": {
      "model_module": "ipylwc",
      "model_module_version": "~0.1.4",
      "model_name": "SeriesModel",
      "state": {
       "_model_module_version": "~0.1.4",
       "_view_module_version": "~0.1.4",
       "data": [
        {
         "_internal_originalTime": "2018-12-22",
         "time": {
          "day": 22,
          "month": 12,
          "year": 2018
         },
         "value": 32.51
        },
        {
         "_internal_originalTime": "2018-12-23",
         "time": {
          "day": 23,
          "month": 12,
          "year": 2018
         },
         "value": 31.11
        },
        {
         "_internal_originalTime": "2018-12-24",
         "time": {
          "day": 24,
          "month": 12,
          "year": 2018
         },
         "value": 27.02
        },
        {
         "_internal_originalTime": "2018-12-25",
         "time": {
          "day": 25,
          "month": 12,
          "year": 2018
         },
         "value": 27.32
        },
        {
         "_internal_originalTime": "2018-12-26",
         "time": {
          "day": 26,
          "month": 12,
          "year": 2018
         },
         "value": 25.17
        },
        {
         "_internal_originalTime": "2018-12-27",
         "time": {
          "day": 27,
          "month": 12,
          "year": 2018
         },
         "value": 28.89
        },
        {
         "_internal_originalTime": "2018-12-28",
         "time": {
          "day": 28,
          "month": 12,
          "year": 2018
         },
         "value": 25.46
        },
        {
         "_internal_originalTime": "2018-12-29",
         "time": {
          "day": 29,
          "month": 12,
          "year": 2018
         },
         "value": 23.92
        },
        {
         "_internal_originalTime": "2018-12-30",
         "time": {
          "day": 30,
          "month": 12,
          "year": 2018
         },
         "value": 22.68
        },
        {
         "_internal_originalTime": "2018-12-31",
         "time": {
          "day": 31,
          "month": 12,
          "year": 2018
         },
         "value": 22.67
        }
       ],
       "markers": null,
       "options": {
        "color": "blue"
       },
       "type": "line"
      }
     },
     "f37aebf094a84e28acde6bca950f9180": {
      "model_module": "ipylwc",
      "model_module_version": "~0.1.4",
      "model_name": "SeriesModel",
      "state": {
       "_model_module_version": "~0.1.4",
       "_view_module_version": "~0.1.4",
       "data": [
        {
         "time": "2018-12-22",
         "value": 32.51
        },
        {
         "time": "2018-12-23",
         "value": 31.11
        },
        {
         "time": "2018-12-24",
         "value": 27.02
        },
        {
         "time": "2018-12-25",
         "value": 27.32
        },
        {
         "time": "2018-12-26",
         "value": 25.17
        },
        {
         "time": "2018-12-27",
         "value": 28.89
        },
        {
         "time": "2018-12-28",
         "value": 25.46
        },
        {
         "time": "2018-12-29",
         "value": 23.92
        },
        {
         "time": "2018-12-30",
         "value": 22.68
        },
        {
         "time": "2018-12-31",
         "value": 22.67
        }
       ],
       "markers": null,
       "options": {
        "color": "yellow",
        "priceLineVisible": true
       },
       "type": "line"
      }
     },
     "f4838319a9294fe4b1b196956c031b26": {
      "model_module": "ipylwc",
      "model_module_version": "~0.1.4",
      "model_name": "ChartModel",
      "state": {
       "_model_module_version": "~0.1.4",
       "_view_module_version": "~0.1.4",
       "layout": "IPY_MODEL_cfb61d619256408f9c9631021eb986ad",
       "options": {
        "height": 500,
        "layout": {
         "background": {
          "color": "#505050",
          "type": "solid"
         },
         "textColor": "blue"
        },
        "width": 1200
       },
       "series": [
        "IPY_MODEL_f37aebf094a84e28acde6bca950f9180",
        "IPY_MODEL_259e359aa3dd4012919089c819e3cb46"
       ],
       "visibleRange": {}
      }
     }
    },
    "version_major": 2,
    "version_minor": 0
   }
  }
 },
 "nbformat": 4,
 "nbformat_minor": 4
}
