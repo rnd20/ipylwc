{
 "cells": [
  {
   "cell_type": "markdown",
   "metadata": {
    "pycharm": {
     "name": "#%% md\n"
    }
   },
   "source": [
    "# Introduction"
   ]
  },
  {
   "cell_type": "code",
   "execution_count": 1,
   "metadata": {},
   "outputs": [],
   "source": [
    "%load_ext autoreload\n",
    "%autoreload 2"
   ]
  },
  {
   "cell_type": "code",
   "execution_count": 2,
   "metadata": {
    "collapsed": false,
    "jupyter": {
     "outputs_hidden": false
    },
    "pycharm": {
     "name": "#%%\n"
    }
   },
   "outputs": [],
   "source": [
    "from ipylwc.chart import Chart \n",
    "from ipylwc.series import LineSeries, AreaSeries, CandlestickSeries\n",
    "import pandas as pd"
   ]
  },
  {
   "cell_type": "code",
   "execution_count": 3,
   "metadata": {
    "collapsed": false,
    "jupyter": {
     "outputs_hidden": false
    },
    "pycharm": {
     "name": "#%%\n"
    }
   },
   "outputs": [],
   "source": [
    "options = { \"width\": 1200, \"height\": 500, \"layout\": { \"textColor\": 'blue', \"background\": { \"type\": 'solid', \"color\": 'white' } }}"
   ]
  },
  {
   "cell_type": "code",
   "execution_count": 4,
   "metadata": {
    "collapsed": false,
    "jupyter": {
     "outputs_hidden": false
    },
    "pycharm": {
     "name": "#%%\n"
    }
   },
   "outputs": [],
   "source": [
    "data1 = pd.DataFrame([\n",
    "      { 'time': '2018-12-22', 'value': 32.51 },\n",
    "      { 'time': '2018-12-23', 'value': 31.11 },\n",
    "      { 'time': '2018-12-24', 'value': 27.02 },\n",
    "      { 'time': '2018-12-25', 'value': 27.32 },\n",
    "      { 'time': '2018-12-26', 'value': 25.17 },\n",
    "      { 'time': '2018-12-27', 'value': 28.89 },\n",
    "      { 'time': '2018-12-28', 'value': 25.46 },\n",
    "      { 'time': '2018-12-29', 'value': 23.92 },\n",
    "      { 'time': '2018-12-30', 'value': 22.68 },\n",
    "      { 'time': '2018-12-31', 'value': 22.67 },\n",
    "    ]);"
   ]
  },
  {
   "cell_type": "code",
   "execution_count": 5,
   "metadata": {
    "collapsed": false,
    "jupyter": {
     "outputs_hidden": false
    },
    "pycharm": {
     "name": "#%%\n"
    }
   },
   "outputs": [],
   "source": [
    "data2 = pd.DataFrame([\n",
    "      { 'time': '2018-12-22', 'value': 132.51 },\n",
    "      { 'time': '2018-12-23', 'value': 131.11 },\n",
    "      { 'time': '2018-12-24', 'value': 127.02 },\n",
    "      { 'time': '2018-12-25', 'value': 127.32 },\n",
    "      { 'time': '2018-12-26', 'value': 125.17 },\n",
    "      { 'time': '2018-12-27', 'value': 128.89 },\n",
    "      { 'time': '2018-12-28', 'value': 125.46 },\n",
    "      { 'time': '2018-12-29', 'value': 123.92 },\n",
    "      { 'time': '2018-12-30', 'value': 122.68 },\n",
    "      { 'time': '2018-12-31', 'value': 122.67 },\n",
    "    ]);\n",
    "\n",
    "data3 = pd.DataFrame(\n",
    "[\n",
    "    { 'time': '2018-12-22', 'open': 75.16, 'high': 82.84, 'low': 36.16, 'close': 45.72 },\n",
    "    { 'time': '2018-12-23', 'open': 45.12, 'high': 53.90, 'low': 45.12, 'close': 48.09 },\n",
    "    { 'time': '2018-12-24', 'open': 60.71, 'high': 60.71, 'low': 53.39, 'close': 59.29 },\n",
    "    { 'time': '2018-12-25', 'open': 68.26, 'high': 68.26, 'low': 59.04, 'close': 60.50 },\n",
    "    { 'time': '2018-12-26', 'open': 67.71, 'high': 105.85, 'low': 66.67, 'close': 91.04 },\n",
    "    { 'time': '2018-12-27', 'open': 91.04, 'high': 121.40, 'low': 82.70, 'close': 111.40 },\n",
    "    { 'time': '2018-12-28', 'open': 111.51, 'high': 142.83, 'low': 103.34, 'close': 131.25 },\n",
    "    { 'time': '2018-12-29', 'open': 131.33, 'high': 151.17, 'low': 77.68, 'close': 96.43 },\n",
    "    { 'time': '2018-12-30', 'open': 106.33, 'high': 110.20, 'low': 90.39, 'close': 98.10 },\n",
    "    { 'time': '2018-12-31', 'open': 109.87, 'high': 114.69, 'low': 85.66, 'close': 111.26 },\n",
    "]);\n",
    "series1 = LineSeries(options={'color': '#2962FF'}, data=data1)\n",
    "series2 = AreaSeries(options={'color': '#006229'}, data=data2)\n",
    "series3 = CandlestickSeries(data=data3)\n",
    "\n",
    "series = [series1, series2, series3]"
   ]
  },
  {
   "cell_type": "code",
   "execution_count": 6,
   "metadata": {
    "collapsed": false,
    "jupyter": {
     "outputs_hidden": false
    },
    "pycharm": {
     "name": "#%%\n"
    }
   },
   "outputs": [],
   "source": [
    "series1.options = {'color': 'yellow'}"
   ]
  },
  {
   "cell_type": "code",
   "execution_count": 7,
   "metadata": {
    "collapsed": false,
    "jupyter": {
     "outputs_hidden": false
    },
    "pycharm": {
     "name": "#%%\n"
    }
   },
   "outputs": [
    {
     "data": {
      "application/vnd.jupyter.widget-view+json": {
       "model_id": "81ae2bdb5a8549b0a66cf71822e69366",
       "version_major": 2,
       "version_minor": 0
      },
      "text/plain": [
       "Chart(options={'width': 1200, 'height': 500, 'layout': {'textColor': 'blue', 'background': {'type': 'solid', '…"
      ]
     },
     "execution_count": 7,
     "metadata": {},
     "output_type": "execute_result"
    }
   ],
   "source": [
    "w = Chart(options=options, series=[series1, series2, series3])\n",
    "w"
   ]
  },
  {
   "cell_type": "code",
   "execution_count": null,
   "metadata": {
    "collapsed": false,
    "jupyter": {
     "outputs_hidden": false
    },
    "pycharm": {
     "name": "#%%\n"
    }
   },
   "outputs": [],
   "source": []
  },
  {
   "cell_type": "code",
   "execution_count": 8,
   "metadata": {
    "collapsed": false,
    "jupyter": {
     "outputs_hidden": false
    },
    "pycharm": {
     "name": "#%%\n"
    }
   },
   "outputs": [],
   "source": [
    "markers = pd.DataFrame([\n",
    "    { 'time': '2018-12-26', 'position': 'aboveBar', 'color': '#e91e63', 'shape': 'arrowDown', 'text': 'Sell @ 111.40' },\n",
    "    { 'time': '2018-12-29', 'position': 'belowBar', 'color': '#2196F3', 'shape': 'arrowUp', 'text': 'Buy @ 111.40' }])\n",
    "\n",
    " "
   ]
  },
  {
   "cell_type": "code",
   "execution_count": 9,
   "metadata": {
    "collapsed": false,
    "jupyter": {
     "outputs_hidden": false
    },
    "pycharm": {
     "name": "#%%\n"
    }
   },
   "outputs": [],
   "source": [
    "series3.markers = markers"
   ]
  }
 ],
 "metadata": {
  "kernelspec": {
   "display_name": "Python 3 (ipykernel)",
   "language": "python",
   "name": "python3"
  },
  "language_info": {
   "codemirror_mode": {
    "name": "ipython",
    "version": 3
   },
   "file_extension": ".py",
   "mimetype": "text/x-python",
   "name": "python",
   "nbconvert_exporter": "python",
   "pygments_lexer": "ipython3",
   "version": "3.10.6"
  }
 },
 "nbformat": 4,
 "nbformat_minor": 4
}