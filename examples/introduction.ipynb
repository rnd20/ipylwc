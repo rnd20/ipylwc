{
 "cells": [
  {
   "cell_type": "markdown",
   "metadata": {
    "pycharm": {
     "name": "#%% md\n"
    }
   },
   "source": [
    "# Introduction"
   ]
  },
  {
   "cell_type": "code",
   "execution_count": 1,
   "metadata": {},
   "outputs": [
    {
     "name": "stdout",
     "output_type": "stream",
     "text": [
      "time: 215 µs (started: 2022-09-07 21:38:13 -04:00)\n"
     ]
    }
   ],
   "source": [
    "%load_ext autoreload\n",
    "%autoreload 2\n",
    "try:\n",
    "    %load_ext autotime\n",
    "except:\n",
    "    !pip install ipython-autotime\n",
    "    %load_ext autotime"
   ]
  },
  {
   "cell_type": "code",
   "execution_count": 2,
   "metadata": {
    "collapsed": false,
    "jupyter": {
     "outputs_hidden": false
    },
    "pycharm": {
     "name": "#%%\n"
    }
   },
   "outputs": [
    {
     "name": "stdout",
     "output_type": "stream",
     "text": [
      "time: 609 ms (started: 2022-09-07 21:38:13 -04:00)\n"
     ]
    }
   ],
   "source": [
    "from ipylwc.chart import Chart \n",
    "from ipylwc.series import LineSeries, AreaSeries, CandlestickSeries\n",
    "import pandas as pd\n",
    "import numpy as np"
   ]
  },
  {
   "cell_type": "code",
   "execution_count": 3,
   "metadata": {
    "collapsed": false,
    "jupyter": {
     "outputs_hidden": false
    },
    "pycharm": {
     "name": "#%%\n"
    }
   },
   "outputs": [
    {
     "name": "stdout",
     "output_type": "stream",
     "text": [
      "time: 369 µs (started: 2022-09-07 21:38:14 -04:00)\n"
     ]
    }
   ],
   "source": [
    "options = { \"width\": 1200, \"height\": 500, \"layout\": { \"textColor\": 'blue', \"background\": { \"type\": 'solid', \"color\": 'white' } }}"
   ]
  },
  {
   "cell_type": "code",
   "execution_count": 4,
   "metadata": {},
   "outputs": [
    {
     "name": "stdout",
     "output_type": "stream",
     "text": [
      "time: 419 µs (started: 2022-09-07 21:38:14 -04:00)\n"
     ]
    }
   ],
   "source": [
    "options['timeScale']={\n",
    "                'fixLeftEdge': True,\n",
    "                'lockVisibleTimeRangeOnResize': True,\n",
    "                'rightBarStaysOnScroll': True,\n",
    "                'borderVisible': True,\n",
    "                'borderColor': '#000000',\n",
    "                'visible': True,\n",
    "                'timeVisible': True,\n",
    "                'secondsVisible': True,\n",
    "            }"
   ]
  },
  {
   "cell_type": "code",
   "execution_count": 5,
   "metadata": {},
   "outputs": [
    {
     "data": {
      "text/plain": [
       "{'width': 1200,\n",
       " 'height': 500,\n",
       " 'layout': {'textColor': 'blue',\n",
       "  'background': {'type': 'solid', 'color': 'white'}},\n",
       " 'timeScale': {'fixLeftEdge': True,\n",
       "  'lockVisibleTimeRangeOnResize': True,\n",
       "  'rightBarStaysOnScroll': True,\n",
       "  'borderVisible': True,\n",
       "  'borderColor': '#000000',\n",
       "  'visible': True,\n",
       "  'timeVisible': True,\n",
       "  'secondsVisible': True}}"
      ]
     },
     "execution_count": 5,
     "metadata": {},
     "output_type": "execute_result"
    },
    {
     "name": "stdout",
     "output_type": "stream",
     "text": [
      "time: 3.55 ms (started: 2022-09-07 21:38:14 -04:00)\n"
     ]
    }
   ],
   "source": [
    "options"
   ]
  },
  {
   "cell_type": "code",
   "execution_count": 6,
   "metadata": {
    "collapsed": false,
    "jupyter": {
     "outputs_hidden": false
    },
    "pycharm": {
     "name": "#%%\n"
    }
   },
   "outputs": [
    {
     "name": "stdout",
     "output_type": "stream",
     "text": [
      "time: 2.61 ms (started: 2022-09-07 21:38:14 -04:00)\n"
     ]
    }
   ],
   "source": [
    "data1 = pd.DataFrame([\n",
    "      { 'time': '2018-12-22', 'value': 32.51 },\n",
    "      { 'time': '2018-12-23', 'value': 31.11 },\n",
    "      { 'time': '2018-12-24', 'value': 27.02 },\n",
    "      { 'time': '2018-12-25', 'value': 27.32 },\n",
    "      { 'time': '2018-12-26', 'value': 25.17 },\n",
    "      { 'time': '2018-12-27', 'value': 28.89 },\n",
    "      { 'time': '2018-12-28', 'value': 25.46 },\n",
    "      { 'time': '2018-12-29', 'value': 23.92 },\n",
    "      { 'time': '2018-12-30', 'value': 22.68 },\n",
    "      { 'time': '2018-12-31', 'value': 22.67 },\n",
    "    ]);"
   ]
  },
  {
   "cell_type": "code",
   "execution_count": 7,
   "metadata": {
    "collapsed": false,
    "jupyter": {
     "outputs_hidden": false
    },
    "pycharm": {
     "name": "#%%\n"
    }
   },
   "outputs": [
    {
     "name": "stdout",
     "output_type": "stream",
     "text": [
      "time: 13.4 ms (started: 2022-09-07 21:38:14 -04:00)\n"
     ]
    }
   ],
   "source": [
    "data2 = pd.DataFrame([\n",
    "      { 'time': '2018-12-22', 'value': 132.51 },\n",
    "      { 'time': '2018-12-23', 'value': 131.11 },\n",
    "      { 'time': '2018-12-24', 'value': 127.02 },\n",
    "      { 'time': '2018-12-25', 'value': 127.32 },\n",
    "      { 'time': '2018-12-26', 'value': 125.17 },\n",
    "      { 'time': '2018-12-27', 'value': 128.89 },\n",
    "      { 'time': '2018-12-28', 'value': 125.46 },\n",
    "      { 'time': '2018-12-29', 'value': 123.92 },\n",
    "      { 'time': '2018-12-30', 'value': 122.68 },\n",
    "      { 'time': '2018-12-31', 'value': 122.67 },\n",
    "    ]);\n",
    "\n",
    "data3 = pd.DataFrame(\n",
    "[\n",
    "    { 'time': '2018-12-22 03:35:53', 'open': 45.12, 'high': 53.90, 'low': 45.12, 'close': 48.09 },\n",
    "    { 'time': '2018-12-22 10:15:43', 'open': 60.71, 'high': 60.71, 'low': 53.39, 'close': 59.29 },\n",
    "    { 'time': '2018-12-22 11:45:13', 'open': 68.26, 'high': 68.26, 'low': 59.04, 'close': 60.50 },\n",
    "    { 'time': '2018-12-22 13:35:33', 'open': 67.71, 'high': 105.85, 'low': 66.67, 'close': 91.04 },\n",
    "    { 'time': '2018-12-22 15:45:33', 'open': 75.16, 'high': 82.84, 'low': 36.16, 'close': 45.72 },\n",
    "    { 'time': '2018-12-27 03:15:53', 'open': 91.04, 'high': 121.40, 'low': 82.70, 'close': 111.40 },\n",
    "    { 'time': '2018-12-28 13:35:23', 'open': 111.51, 'high': 142.83, 'low': 103.34, 'close': 131.25 },\n",
    "    { 'time': '2018-12-29 06:45:13', 'open': 131.33, 'high': 151.17, 'low': 77.68, 'close': 96.43 },\n",
    "    { 'time': '2018-12-30 17:15:03', 'open': 106.33, 'high': 110.20, 'low': 90.39, 'close': 98.10 },\n",
    "    { 'time': '2018-12-31 23:45:33', 'open': 109.87, 'high': 114.69, 'low': 85.66, 'close': 111.26 },\n",
    "]);\n",
    "data3.time = pd.to_datetime(data3.time).astype(int)/1e9\n",
    "\n",
    "markers = pd.DataFrame([\n",
    "    { 'time': '2018-12-26', 'position': 'aboveBar', 'color': '#e91e63', 'shape': 'arrowDown', 'text': 'Sell @ 111.40' },\n",
    "    { 'time': '2018-12-29', 'position': 'belowBar', 'color': '#2196F3', 'shape': 'arrowUp', 'text': 'Buy @ 112.40' }])\n",
    "\n",
    "# series3.markers = markers\n",
    " \n",
    "series1 = LineSeries(options={'color': '#2962FF'}, data=data1)\n",
    "series2 = AreaSeries(options={'color': '#006229'}, data=data2)\n",
    "series3 = CandlestickSeries(data=data3, markers=markers)\n",
    "\n",
    "series = [series1, series2, series3]\n",
    "series = [series3]"
   ]
  },
  {
   "cell_type": "code",
   "execution_count": 8,
   "metadata": {
    "collapsed": false,
    "jupyter": {
     "outputs_hidden": false
    },
    "pycharm": {
     "name": "#%%\n"
    }
   },
   "outputs": [
    {
     "name": "stdout",
     "output_type": "stream",
     "text": [
      "time: 1.3 ms (started: 2022-09-07 21:38:15 -04:00)\n"
     ]
    }
   ],
   "source": [
    "series1.options = {'color': 'yellow'}"
   ]
  },
  {
   "cell_type": "code",
   "execution_count": 9,
   "metadata": {
    "collapsed": false,
    "jupyter": {
     "outputs_hidden": false
    },
    "pycharm": {
     "name": "#%%\n"
    }
   },
   "outputs": [
    {
     "data": {
      "application/vnd.jupyter.widget-view+json": {
       "model_id": "404c5d35eedf455680e75b2cd66e7e57",
       "version_major": 2,
       "version_minor": 0
      },
      "text/plain": [
       "Chart(options={'width': 1200, 'height': 500, 'layout': {'textColor': 'blue', 'background': {'type': 'solid', '…"
      ]
     },
     "execution_count": 9,
     "metadata": {},
     "output_type": "execute_result"
    },
    {
     "name": "stdout",
     "output_type": "stream",
     "text": [
      "time: 7.28 ms (started: 2022-09-07 21:38:15 -04:00)\n"
     ]
    }
   ],
   "source": [
    "w = Chart(options=options, series=series)\n",
    "w"
   ]
  },
  {
   "cell_type": "code",
   "execution_count": 41,
   "metadata": {
    "collapsed": false,
    "jupyter": {
     "outputs_hidden": false
    },
    "pycharm": {
     "name": "#%%\n"
    }
   },
   "outputs": [
    {
     "name": "stdout",
     "output_type": "stream",
     "text": [
      "time: 815 µs (started: 2022-09-07 18:57:46 -04:00)\n"
     ]
    }
   ],
   "source": [
    "markers.iloc[0].text = 't2es1tw21.1'\n",
    "series3.markers = markers.copy()"
   ]
  },
  {
   "cell_type": "code",
   "execution_count": 42,
   "metadata": {},
   "outputs": [
    {
     "data": {
      "text/html": [
       "<div>\n",
       "<style scoped>\n",
       "    .dataframe tbody tr th:only-of-type {\n",
       "        vertical-align: middle;\n",
       "    }\n",
       "\n",
       "    .dataframe tbody tr th {\n",
       "        vertical-align: top;\n",
       "    }\n",
       "\n",
       "    .dataframe thead th {\n",
       "        text-align: right;\n",
       "    }\n",
       "</style>\n",
       "<table border=\"1\" class=\"dataframe\">\n",
       "  <thead>\n",
       "    <tr style=\"text-align: right;\">\n",
       "      <th></th>\n",
       "      <th>time</th>\n",
       "      <th>position</th>\n",
       "      <th>color</th>\n",
       "      <th>shape</th>\n",
       "      <th>text</th>\n",
       "    </tr>\n",
       "  </thead>\n",
       "  <tbody>\n",
       "    <tr>\n",
       "      <th>0</th>\n",
       "      <td>2018-12-26</td>\n",
       "      <td>aboveBar</td>\n",
       "      <td>#e91e63</td>\n",
       "      <td>arrowDown</td>\n",
       "      <td>t2es1tw21.1</td>\n",
       "    </tr>\n",
       "    <tr>\n",
       "      <th>1</th>\n",
       "      <td>2018-12-29</td>\n",
       "      <td>belowBar</td>\n",
       "      <td>#2196F3</td>\n",
       "      <td>arrowUp</td>\n",
       "      <td>Buy @ 112.40</td>\n",
       "    </tr>\n",
       "  </tbody>\n",
       "</table>\n",
       "</div>"
      ],
      "text/plain": [
       "         time  position    color      shape          text\n",
       "0  2018-12-26  aboveBar  #e91e63  arrowDown   t2es1tw21.1\n",
       "1  2018-12-29  belowBar  #2196F3    arrowUp  Buy @ 112.40"
      ]
     },
     "execution_count": 42,
     "metadata": {},
     "output_type": "execute_result"
    },
    {
     "name": "stdout",
     "output_type": "stream",
     "text": [
      "time: 3.2 ms (started: 2022-09-07 18:57:46 -04:00)\n"
     ]
    }
   ],
   "source": [
    "markers"
   ]
  },
  {
   "cell_type": "code",
   "execution_count": null,
   "metadata": {},
   "outputs": [],
   "source": []
  },
  {
   "cell_type": "code",
   "execution_count": null,
   "metadata": {},
   "outputs": [],
   "source": []
  }
 ],
 "metadata": {
  "kernelspec": {
   "display_name": "ipylwc-dev",
   "language": "python",
   "name": "ipylwc-dev"
  },
  "language_info": {
   "codemirror_mode": {
    "name": "ipython",
    "version": 3
   },
   "file_extension": ".py",
   "mimetype": "text/x-python",
   "name": "python",
   "nbconvert_exporter": "python",
   "pygments_lexer": "ipython3",
   "version": "3.10.6"
  }
 },
 "nbformat": 4,
 "nbformat_minor": 4
}
