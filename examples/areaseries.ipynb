{
 "cells": [
  {
   "cell_type": "markdown",
   "metadata": {
    "pycharm": {
     "name": "#%% md\n"
    }
   },
   "source": [
    "# Area Series"
   ]
  },
  {
   "cell_type": "code",
   "execution_count": 1,
   "metadata": {
    "pycharm": {
     "name": "#%%\n"
    }
   },
   "outputs": [
    {
     "name": "stdout",
     "output_type": "stream",
     "text": [
      "time: 281 µs (started: 2022-11-18 22:26:19 -05:00)\n"
     ]
    }
   ],
   "source": [
    "%load_ext autoreload\n",
    "%autoreload 2\n",
    "try:\n",
    "    %load_ext autotime\n",
    "except:\n",
    "    !pip install ipython-autotime\n",
    "    %load_ext autotime"
   ]
  },
  {
   "cell_type": "code",
   "execution_count": 2,
   "metadata": {
    "collapsed": false,
    "jupyter": {
     "outputs_hidden": false
    },
    "pycharm": {
     "name": "#%%\n"
    }
   },
   "outputs": [
    {
     "name": "stdout",
     "output_type": "stream",
     "text": [
      "time: 380 ms (started: 2022-11-18 22:26:19 -05:00)\n"
     ]
    }
   ],
   "source": [
    "from ipylwc.chart import Chart \n",
    "from ipylwc.series import AreaSeries\n",
    "import pandas as pd\n",
    "import numpy as np"
   ]
  },
  {
   "cell_type": "code",
   "execution_count": 3,
   "metadata": {
    "collapsed": false,
    "jupyter": {
     "outputs_hidden": false
    },
    "pycharm": {
     "name": "#%%\n"
    }
   },
   "outputs": [
    {
     "name": "stdout",
     "output_type": "stream",
     "text": [
      "time: 352 µs (started: 2022-11-18 22:26:19 -05:00)\n"
     ]
    }
   ],
   "source": [
    "options = { \"width\": 1200, \"height\": 500, \"layout\": { \"textColor\": 'blue', \"background\": { \"type\": 'solid', \"color\": 'white' } }}"
   ]
  },
  {
   "cell_type": "code",
   "execution_count": 4,
   "metadata": {
    "collapsed": false,
    "jupyter": {
     "outputs_hidden": false
    },
    "pycharm": {
     "name": "#%%\n"
    }
   },
   "outputs": [
    {
     "name": "stdout",
     "output_type": "stream",
     "text": [
      "time: 12.7 ms (started: 2022-11-18 22:26:19 -05:00)\n"
     ]
    }
   ],
   "source": [
    "data = pd.DataFrame([\n",
    "      { 'time': '2018-12-22', 'value': 32.51, 'lineColor': 'red', 'topColor': 'purple', 'bottomColor': 'gray'},\n",
    "      { 'time': '2018-12-23', 'value': 31.11, 'lineColor': 'red', 'topColor': 'purple', 'bottomColor': 'gray'},\n",
    "      { 'time': '2018-12-24', 'value': 27.02, 'lineColor': 'red', 'topColor': 'purple', 'bottomColor': 'gray'},\n",
    "      { 'time': '2018-12-25', 'value': 27.32, 'lineColor': 'red', 'topColor': 'purple', 'bottomColor': 'gray'},\n",
    "      { 'time': '2018-12-26', 'value': 25.17, 'lineColor': 'red', 'topColor': 'purple', 'bottomColor': 'gray'},\n",
    "      { 'time': '2018-12-27', 'value': 28.89, 'lineColor': 'green', 'topColor': 'blue', 'bottomColor': 'lightgray'},\n",
    "      { 'time': '2018-12-28', 'value': 25.46, 'lineColor': 'green', 'topColor': 'blue', 'bottomColor': 'lightgray'},\n",
    "      { 'time': '2018-12-29', 'value': 23.92, 'lineColor': 'green', 'topColor': 'blue', 'bottomColor': 'lightgray'},\n",
    "      { 'time': '2018-12-30', 'value': 22.68, 'lineColor': 'green', 'topColor': 'blue', 'bottomColor': 'lightgray'},\n",
    "      { 'time': '2018-12-31', 'value': 22.67, 'lineColor': 'green', 'topColor': 'blue', 'bottomColor': 'lightgray'},\n",
    "    ]);\n",
    "data2 = pd.DataFrame([\n",
    "      { 'time': '2018-12-22', 'value': 32.51},\n",
    "      { 'time': '2018-12-23', 'value': 31.11, 'lineColor': 'red'},\n",
    "      { 'time': '2018-12-24', 'value': 27.02, 'lineColor': 'red'},\n",
    "      { 'time': '2018-12-25', 'value': 27.32, 'lineColor': 'red'},\n",
    "      { 'time': '2018-12-26', 'value': 25.17, 'lineColor': 'red'},\n",
    "      { 'time': '2018-12-27', 'value': 28.89, 'lineColor': 'green'},\n",
    "      { 'time': '2018-12-28', 'value': 25.46, 'lineColor': 'green'},\n",
    "      { 'time': '2018-12-29', 'value': 23.92, 'lineColor': 'green'},\n",
    "      { 'time': '2018-12-30', 'value': 22.68, 'lineColor': 'green'},\n",
    "      { 'time': '2018-12-31', 'value': 22.67, 'lineColor': 'green'},\n",
    "    ]);\n",
    "\n",
    "data['bottom'] = 24\n",
    "series = AreaSeries(data=data)"
   ]
  },
  {
   "cell_type": "code",
   "execution_count": 7,
   "metadata": {
    "collapsed": false,
    "jupyter": {
     "outputs_hidden": false
    },
    "pycharm": {
     "name": "#%%\n"
    }
   },
   "outputs": [
    {
     "data": {
      "application/vnd.jupyter.widget-view+json": {
       "model_id": "ff93b514dd1a481ca0ed844651dc640a",
       "version_major": 2,
       "version_minor": 0
      },
      "text/plain": [
       "Chart(options={'width': 1200, 'height': 500, 'layout': {'textColor': 'blue', 'background': {'type': 'solid', '…"
      ]
     },
     "metadata": {},
     "output_type": "display_data"
    },
    {
     "name": "stdout",
     "output_type": "stream",
     "text": [
      "time: 21.1 ms (started: 2022-11-18 22:26:30 -05:00)\n"
     ]
    }
   ],
   "source": [
    "w = Chart(options=options, series=[series])\n",
    "w"
   ]
  },
  {
   "cell_type": "code",
   "execution_count": 6,
   "metadata": {
    "pycharm": {
     "name": "#%%\n"
    }
   },
   "outputs": [
    {
     "name": "stdout",
     "output_type": "stream",
     "text": [
      "time: 729 µs (started: 2022-11-18 22:26:19 -05:00)\n"
     ]
    }
   ],
   "source": [
    "# w.visibleRange = {'from':1545454800, 'to':1545714000}\n",
    "w.visibleRange = {'from':1545627600, 'to':1545710000}"
   ]
  }
 ],
 "metadata": {
  "kernelspec": {
   "display_name": "ipylwc-dev",
   "language": "python",
   "name": "ipylwc-dev"
  },
  "language_info": {
   "codemirror_mode": {
    "name": "ipython",
    "version": 3
   },
   "file_extension": ".py",
   "mimetype": "text/x-python",
   "name": "python",
   "nbconvert_exporter": "python",
   "pygments_lexer": "ipython3",
   "version": "3.9.12"
  }
 },
 "nbformat": 4,
 "nbformat_minor": 4
}
